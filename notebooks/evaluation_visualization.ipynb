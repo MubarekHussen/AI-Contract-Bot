{
 "cells": [
  {
   "cell_type": "code",
   "execution_count": 43,
   "metadata": {},
   "outputs": [],
   "source": [
    "import pandas as pd\n",
    "import numpy as np\n",
    "from renumics import spotlight\n",
    "from langchain_openai import OpenAIEmbeddings"
   ]
  },
  {
   "cell_type": "code",
   "execution_count": 31,
   "metadata": {},
   "outputs": [],
   "source": [
    "from dotenv import load_dotenv\n",
    "import os\n",
    "\n",
    "load_dotenv()\n",
    "\n",
    "OPENAI_KEY=os.environ[\"OPENAI_API_KEY\"]"
   ]
  },
  {
   "cell_type": "code",
   "execution_count": 32,
   "metadata": {},
   "outputs": [],
   "source": [
    "df = pd.read_csv('../evaluation_results.csv')"
   ]
  },
  {
   "cell_type": "code",
   "execution_count": 33,
   "metadata": {},
   "outputs": [
    {
     "data": {
      "text/html": [
       "<div>\n",
       "<style scoped>\n",
       "    .dataframe tbody tr th:only-of-type {\n",
       "        vertical-align: middle;\n",
       "    }\n",
       "\n",
       "    .dataframe tbody tr th {\n",
       "        vertical-align: top;\n",
       "    }\n",
       "\n",
       "    .dataframe thead th {\n",
       "        text-align: right;\n",
       "    }\n",
       "</style>\n",
       "<table border=\"1\" class=\"dataframe\">\n",
       "  <thead>\n",
       "    <tr style=\"text-align: right;\">\n",
       "      <th></th>\n",
       "      <th>Query</th>\n",
       "      <th>Expected Answer</th>\n",
       "      <th>Generated Answer</th>\n",
       "      <th>Faithfulness Score</th>\n",
       "      <th>Answer Relevancy Score</th>\n",
       "      <th>Context Precision Score</th>\n",
       "      <th>Context Recall Score</th>\n",
       "    </tr>\n",
       "  </thead>\n",
       "  <tbody>\n",
       "    <tr>\n",
       "      <th>0</th>\n",
       "      <td>Who are the parties to the Agreement and what ...</td>\n",
       "      <td>Cloud Investments Ltd. (“Company”) and Jack Ro...</td>\n",
       "      <td>The parties to the Agreement are not explicit...</td>\n",
       "      <td>0.0</td>\n",
       "      <td>0.000000</td>\n",
       "      <td>0.000000</td>\n",
       "      <td>1.000000</td>\n",
       "    </tr>\n",
       "    <tr>\n",
       "      <th>1</th>\n",
       "      <td>What is the termination notice?</td>\n",
       "      <td>According to section 4:14 days for convenience...</td>\n",
       "      <td>The termination notice is fourteen (14) days'...</td>\n",
       "      <td>1.0</td>\n",
       "      <td>0.933003</td>\n",
       "      <td>0.000000</td>\n",
       "      <td>0.500000</td>\n",
       "    </tr>\n",
       "    <tr>\n",
       "      <th>2</th>\n",
       "      <td>What are the payments to the Advisor under the...</td>\n",
       "      <td>According to section 6: 1. Fees of $9 per hour...</td>\n",
       "      <td>The payments to the Advisor under the Agreeme...</td>\n",
       "      <td>1.0</td>\n",
       "      <td>0.966477</td>\n",
       "      <td>0.250000</td>\n",
       "      <td>0.666667</td>\n",
       "    </tr>\n",
       "    <tr>\n",
       "      <th>3</th>\n",
       "      <td>Can the Agreement or any of its obligations be...</td>\n",
       "      <td>1. Under section 1.1 the Advisor can’t assign ...</td>\n",
       "      <td>No, the Agreement or any of its obligations c...</td>\n",
       "      <td>1.0</td>\n",
       "      <td>0.959164</td>\n",
       "      <td>0.866667</td>\n",
       "      <td>1.000000</td>\n",
       "    </tr>\n",
       "    <tr>\n",
       "      <th>4</th>\n",
       "      <td>Who owns the IP?</td>\n",
       "      <td>According to section 4 of the Undertaking (App...</td>\n",
       "      <td>The Company owns the Intellectual Property, e...</td>\n",
       "      <td>1.0</td>\n",
       "      <td>0.892765</td>\n",
       "      <td>0.000000</td>\n",
       "      <td>1.000000</td>\n",
       "    </tr>\n",
       "  </tbody>\n",
       "</table>\n",
       "</div>"
      ],
      "text/plain": [
       "                                               Query  \\\n",
       "0  Who are the parties to the Agreement and what ...   \n",
       "1                    What is the termination notice?   \n",
       "2  What are the payments to the Advisor under the...   \n",
       "3  Can the Agreement or any of its obligations be...   \n",
       "4                                   Who owns the IP?   \n",
       "\n",
       "                                     Expected Answer  \\\n",
       "0  Cloud Investments Ltd. (“Company”) and Jack Ro...   \n",
       "1  According to section 4:14 days for convenience...   \n",
       "2  According to section 6: 1. Fees of $9 per hour...   \n",
       "3  1. Under section 1.1 the Advisor can’t assign ...   \n",
       "4  According to section 4 of the Undertaking (App...   \n",
       "\n",
       "                                    Generated Answer  Faithfulness Score  \\\n",
       "0   The parties to the Agreement are not explicit...                 0.0   \n",
       "1   The termination notice is fourteen (14) days'...                 1.0   \n",
       "2   The payments to the Advisor under the Agreeme...                 1.0   \n",
       "3   No, the Agreement or any of its obligations c...                 1.0   \n",
       "4   The Company owns the Intellectual Property, e...                 1.0   \n",
       "\n",
       "   Answer Relevancy Score  Context Precision Score  Context Recall Score  \n",
       "0                0.000000                 0.000000              1.000000  \n",
       "1                0.933003                 0.000000              0.500000  \n",
       "2                0.966477                 0.250000              0.666667  \n",
       "3                0.959164                 0.866667              1.000000  \n",
       "4                0.892765                 0.000000              1.000000  "
      ]
     },
     "execution_count": 33,
     "metadata": {},
     "output_type": "execute_result"
    }
   ],
   "source": [
    "df.head()"
   ]
  },
  {
   "cell_type": "code",
   "execution_count": 37,
   "metadata": {},
   "outputs": [
    {
     "data": {
      "text/html": [
       "<div>\n",
       "<style scoped>\n",
       "    .dataframe tbody tr th:only-of-type {\n",
       "        vertical-align: middle;\n",
       "    }\n",
       "\n",
       "    .dataframe tbody tr th {\n",
       "        vertical-align: top;\n",
       "    }\n",
       "\n",
       "    .dataframe thead th {\n",
       "        text-align: right;\n",
       "    }\n",
       "</style>\n",
       "<table border=\"1\" class=\"dataframe\">\n",
       "  <thead>\n",
       "    <tr style=\"text-align: right;\">\n",
       "      <th></th>\n",
       "      <th>Faithfulness Score</th>\n",
       "      <th>Answer Relevancy Score</th>\n",
       "      <th>Context Precision Score</th>\n",
       "      <th>Context Recall Score</th>\n",
       "    </tr>\n",
       "  </thead>\n",
       "  <tbody>\n",
       "    <tr>\n",
       "      <th>count</th>\n",
       "      <td>23.000000</td>\n",
       "      <td>23.000000</td>\n",
       "      <td>23.000000</td>\n",
       "      <td>23.000000</td>\n",
       "    </tr>\n",
       "    <tr>\n",
       "      <th>mean</th>\n",
       "      <td>0.699275</td>\n",
       "      <td>0.826988</td>\n",
       "      <td>0.234783</td>\n",
       "      <td>0.681159</td>\n",
       "    </tr>\n",
       "    <tr>\n",
       "      <th>std</th>\n",
       "      <td>0.384960</td>\n",
       "      <td>0.329715</td>\n",
       "      <td>0.334917</td>\n",
       "      <td>0.420927</td>\n",
       "    </tr>\n",
       "    <tr>\n",
       "      <th>min</th>\n",
       "      <td>0.000000</td>\n",
       "      <td>0.000000</td>\n",
       "      <td>0.000000</td>\n",
       "      <td>0.000000</td>\n",
       "    </tr>\n",
       "    <tr>\n",
       "      <th>25%</th>\n",
       "      <td>0.500000</td>\n",
       "      <td>0.900820</td>\n",
       "      <td>0.000000</td>\n",
       "      <td>0.375000</td>\n",
       "    </tr>\n",
       "    <tr>\n",
       "      <th>50%</th>\n",
       "      <td>1.000000</td>\n",
       "      <td>0.958566</td>\n",
       "      <td>0.000000</td>\n",
       "      <td>1.000000</td>\n",
       "    </tr>\n",
       "    <tr>\n",
       "      <th>75%</th>\n",
       "      <td>1.000000</td>\n",
       "      <td>0.976023</td>\n",
       "      <td>0.375000</td>\n",
       "      <td>1.000000</td>\n",
       "    </tr>\n",
       "    <tr>\n",
       "      <th>max</th>\n",
       "      <td>1.000000</td>\n",
       "      <td>1.000000</td>\n",
       "      <td>1.000000</td>\n",
       "      <td>1.000000</td>\n",
       "    </tr>\n",
       "  </tbody>\n",
       "</table>\n",
       "</div>"
      ],
      "text/plain": [
       "       Faithfulness Score  Answer Relevancy Score  Context Precision Score  \\\n",
       "count           23.000000               23.000000                23.000000   \n",
       "mean             0.699275                0.826988                 0.234783   \n",
       "std              0.384960                0.329715                 0.334917   \n",
       "min              0.000000                0.000000                 0.000000   \n",
       "25%              0.500000                0.900820                 0.000000   \n",
       "50%              1.000000                0.958566                 0.000000   \n",
       "75%              1.000000                0.976023                 0.375000   \n",
       "max              1.000000                1.000000                 1.000000   \n",
       "\n",
       "       Context Recall Score  \n",
       "count             23.000000  \n",
       "mean               0.681159  \n",
       "std                0.420927  \n",
       "min                0.000000  \n",
       "25%                0.375000  \n",
       "50%                1.000000  \n",
       "75%                1.000000  \n",
       "max                1.000000  "
      ]
     },
     "execution_count": 37,
     "metadata": {},
     "output_type": "execute_result"
    }
   ],
   "source": [
    "df.describe()"
   ]
  },
  {
   "cell_type": "code",
   "execution_count": 34,
   "metadata": {},
   "outputs": [],
   "source": [
    "df_final = df.copy()"
   ]
  },
  {
   "cell_type": "code",
   "execution_count": 35,
   "metadata": {},
   "outputs": [],
   "source": [
    "df_final[\"contains_answer\"] = df_final[\"Generated Answer\"].apply(lambda x: \"Eichler\" in x)"
   ]
  },
  {
   "cell_type": "code",
   "execution_count": 36,
   "metadata": {},
   "outputs": [],
   "source": [
    "embeddings_model = OpenAIEmbeddings(openai_api_key=OPENAI_KEY)\n",
    "question_embedding = embeddings_model.embed_query(question)\n",
    "df_final['query_embedding'] = df_final['Query'].apply(embeddings_model.embed_query)\n",
    "df_final['answer_embedding'] = df_final['Generated Answer'].apply(embeddings_model.embed_query)"
   ]
  },
  {
   "cell_type": "code",
   "execution_count": 38,
   "metadata": {},
   "outputs": [],
   "source": [
    "df_visualize = df_final[['Query', 'Expected Answer', 'Generated Answer', 'Faithfulness Score', 'Answer Relevancy Score', 'Context Precision Score', 'Context Recall Score']]"
   ]
  },
  {
   "cell_type": "code",
   "execution_count": 39,
   "metadata": {},
   "outputs": [
    {
     "data": {
      "application/vnd.jupyter.widget-view+json": {
       "model_id": "d766b78ba9f04eb0acea2e0a9d6bc1ff",
       "version_major": 2,
       "version_minor": 0
      },
      "text/plain": [
       "VBox(children=(Label(value='Spotlight running on http://127.0.0.1:39991/'), HBox(children=(Button(description=…"
      ]
     },
     "metadata": {},
     "output_type": "display_data"
    }
   ],
   "source": [
    "spotlight.show(df_visualize)"
   ]
  }
 ],
 "metadata": {
  "kernelspec": {
   "display_name": "auto",
   "language": "python",
   "name": "python3"
  },
  "language_info": {
   "codemirror_mode": {
    "name": "ipython",
    "version": 3
   },
   "file_extension": ".py",
   "mimetype": "text/x-python",
   "name": "python",
   "nbconvert_exporter": "python",
   "pygments_lexer": "ipython3",
   "version": "3.11.7"
  }
 },
 "nbformat": 4,
 "nbformat_minor": 2
}
